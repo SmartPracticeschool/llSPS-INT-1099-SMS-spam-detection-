{
 "cells": [
  {
   "cell_type": "code",
   "execution_count": 1,
   "metadata": {},
   "outputs": [
    {
     "name": "stderr",
     "output_type": "stream",
     "text": [
      "Using TensorFlow backend.\n"
     ]
    },
    {
     "name": "stdout",
     "output_type": "stream",
     "text": [
      "WARNING:tensorflow:From C:\\Users\\mounika\\Anaconda3\\lib\\site-packages\\tensorflow\\python\\ops\\nn_impl.py:180: add_dispatch_support.<locals>.wrapper (from tensorflow.python.ops.array_ops) is deprecated and will be removed in a future version.\n",
      "Instructions for updating:\n",
      "Use tf.where in 2.0, which has the same broadcast rule as np.where\n",
      "WARNING:tensorflow:From C:\\Users\\mounika\\Anaconda3\\lib\\site-packages\\keras\\backend\\tensorflow_backend.py:422: The name tf.global_variables is deprecated. Please use tf.compat.v1.global_variables instead.\n",
      "\n"
     ]
    }
   ],
   "source": [
    "from keras.models import load_model\n",
    "import numpy as np\n",
    "import pickle\n",
    "from sklearn.feature_extraction.text import CountVectorizer\n",
    "model=load_model(r'C:\\Users\\mounika\\Desktop\\internship_project\\model.h5')"
   ]
  },
  {
   "cell_type": "code",
   "execution_count": 7,
   "metadata": {},
   "outputs": [
    {
     "name": "stdout",
     "output_type": "stream",
     "text": [
      "It is spam message\n"
     ]
    }
   ],
   "source": [
    "with open(r'C:\\Users\\mounika\\Desktop\\flask files\\cv.pkl','rb')as file:\n",
    "    cv=pickle.load(file)\n",
    "    entered_input='URGENT! You have won a 1 week FREE membership in our å£100,000 Prize Jackpot! Txt the word: CLAIM to No: 81010 T&C www.dbuk.net LCCLTD POBOX 4403LDNW1A7RW18'\n",
    "    x_intent=cv.transform([entered_input])\n",
    "    y_pred=model.predict(x_intent)\n",
    "    if (y_pred>0.5):\n",
    "        print(\"It is spam message\")\n",
    "    else:\n",
    "        print(\"It is ham message\")"
   ]
  },
  {
   "cell_type": "code",
   "execution_count": 8,
   "metadata": {},
   "outputs": [
    {
     "name": "stdout",
     "output_type": "stream",
     "text": [
      "It is ham message\n"
     ]
    }
   ],
   "source": [
    "with open(r'C:\\Users\\mounika\\Desktop\\internship_project\\flask files\\cv.pkl','rb')as file:\n",
    "    cv=pickle.load(file)\n",
    "    entered_input='hi how are you'\n",
    "    x_intent=cv.transform([entered_input])\n",
    "    y_pred=model.predict(x_intent)\n",
    "    if (y_pred>0.5):\n",
    "        print(\"It is spam message\")\n",
    "    else:\n",
    "        print(\"It is ham message\")"
   ]
  },
  {
   "cell_type": "code",
   "execution_count": null,
   "metadata": {},
   "outputs": [],
   "source": []
  }
 ],
 "metadata": {
  "kernelspec": {
   "display_name": "Python 3",
   "language": "python",
   "name": "python3"
  },
  "language_info": {
   "codemirror_mode": {
    "name": "ipython",
    "version": 3
   },
   "file_extension": ".py",
   "mimetype": "text/x-python",
   "name": "python",
   "nbconvert_exporter": "python",
   "pygments_lexer": "ipython3",
   "version": "3.7.4"
  }
 },
 "nbformat": 4,
 "nbformat_minor": 2
}
